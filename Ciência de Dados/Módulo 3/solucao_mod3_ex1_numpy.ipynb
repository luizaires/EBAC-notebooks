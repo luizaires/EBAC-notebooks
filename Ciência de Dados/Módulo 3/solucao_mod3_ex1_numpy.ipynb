{
 "cells": [
  {
   "cell_type": "markdown",
   "metadata": {
    "id": "7NTHqAu40FwJ"
   },
   "source": [
    "<img src=\"https://raw.githubusercontent.com/andre-marcos-perez/ebac-course-utils/main/media/logo/newebac_logo_black_half.png\" alt=\"ebac-logo\">\n",
    "\n",
    "---\n",
    "\n",
    "# **Módulo 3 Parte I** | Elementos Básicos de Numpy\n",
    "**Exercícios**<br> \n",
    "[Luiz Aires](https://github.com/luizaires)\n",
    "\n",
    "---"
   ]
  },
  {
   "cell_type": "markdown",
   "metadata": {
    "id": "JA8BJKA5zcGx"
   },
   "source": [
    "### 01 - Teste de gravidez\n",
    "Escreva uma célula com controle de fluxos que tem como premissa a existência das seguintes variáveis:\n",
    "\n",
    "- ```sexo``` como ```str``` indicando os valores '**M**' para masculino e '**F**' para feminino  \n",
    "- ```beta_hcg``` que indica a quantidade do beta-HCG no sangue em mUI/mL.\n",
    "\n",
    "A sua tarefa é escrever um código que imprima como resultado \"indivíduo do sexo masculino\" quando sexo = 'M', caso sexo = 'F', se o valor de beta-HCG for maior que 5, retorne \"Positivo\" indicando que a paciente está grávida, e retorne \"Negativo\" caso contrário.\n",
    "\n",
    "Não mexa nos valores da variável ```sexo``` nem em ```beta_hcg```, e escreva um código que funcione para quaisquer valores possíveis de ambos: ```sexo``` = '**M**' ou '**F**' e ```beta_hcg``` assumindo valores inteiros positivos."
   ]
  },
  {
   "cell_type": "code",
   "execution_count": 45,
   "metadata": {
    "id": "z1t99JPIzcG1"
   },
   "outputs": [
    {
     "name": "stdout",
     "output_type": "stream",
     "text": [
      "Indivíduo do sexo masculino\n"
     ]
    }
   ],
   "source": [
    "sexo = 'M'\n",
    "beta_hcg = 0\n",
    "\n",
    "# seu código vem abaixo desta linha\n",
    "if sexo == 'M':\n",
    "    print('Indivíduo do sexo masculino')\n",
    "elif sexo == 'F':\n",
    "    if beta_hcg > 5:\n",
    "        print('Positivo')\n",
    "    else:\n",
    "        print('Negativo')\n",
    "else:\n",
    "    print('Sexo não especificado!Por favor, informe \"M\" ou \"F\" para indivíduos do sexo masculino ou feminino.')\n"
   ]
  },
  {
   "cell_type": "markdown",
   "metadata": {
    "id": "bFOMormM2FnB"
   },
   "source": [
    "---"
   ]
  },
  {
   "cell_type": "markdown",
   "metadata": {
    "id": "NLFjjYguzcG4"
   },
   "source": [
    "### 02 - Renomeando variáveis\n",
    "\n",
    "Vamos ver adiante que uma forma de renomear variáveis de um conjunto de dados é através de dicionários - o dicionário deve conter como chave o nome original, associando a cada chave um único valor (tipo *str*) que contenha o nome novo.\n",
    "\n",
    "A sua tarefa é escrever um dicionário que possa ser utilizado para traduzir as variáveis ```name``` (nome), ```age``` (idade) e ```income``` (renda). Ou seja, esse dicionário deve relacionar as chaves *name, age* e *income* às suas respectivas traduções."
   ]
  },
  {
   "cell_type": "code",
   "execution_count": 46,
   "metadata": {
    "id": "tv0jll6KzcG6",
    "outputId": "105e78eb-0552-4521-b3a4-812b9b318688"
   },
   "outputs": [
    {
     "data": {
      "text/plain": [
       "{'name': 'nome', 'age': 'idade', 'income': 'renda'}"
      ]
     },
     "execution_count": 46,
     "metadata": {},
     "output_type": "execute_result"
    }
   ],
   "source": [
    "dic_renomeacao = {'name': 'nome', 'age': 'idade', 'income': 'renda'}\n",
    "dic_renomeacao"
   ]
  },
  {
   "cell_type": "markdown",
   "metadata": {
    "id": "t_GOxRl12OgP"
   },
   "source": [
    "---"
   ]
  },
  {
   "cell_type": "markdown",
   "metadata": {
    "id": "UlfCfQ9zzcG8"
   },
   "source": [
    "### 03 - É divisível?\n",
    "A sua tarefa é escrever um código que indique se um número ```N``` é divisível por um número ```M```. Escreva um programa que faça essa verificação para quaisquer combinações de ```N``` e ```M``` e devolva uma mensagem indicativa no output."
   ]
  },
  {
   "cell_type": "code",
   "execution_count": 47,
   "metadata": {
    "id": "p8IvzZ1TzcG9"
   },
   "outputs": [
    {
     "name": "stdout",
     "output_type": "stream",
     "text": [
      "O número 42 é divisível por 7\n"
     ]
    }
   ],
   "source": [
    "N = 42\n",
    "M = 7\n",
    "\n",
    "#Seu código\n",
    "if N%M == 0:\n",
    "    print(f'O número {N} é divisível por {M}')\n",
    "else:\n",
    "    print(f'O número {N} NÃO é divisível por {M}')"
   ]
  },
  {
   "cell_type": "markdown",
   "metadata": {
    "id": "M-6NW3sF2a5n"
   },
   "source": [
    "---"
   ]
  },
  {
   "cell_type": "markdown",
   "metadata": {
    "id": "kwWmJn2MzcG9"
   },
   "source": [
    "### 04 - Números primos\n",
    "> Um número **N** é primo se e somente se é divisível por 1, -1, por **N** e por -**N**.  \n",
    "\n",
    "Escreva um script que verifica se ```N``` é um número primo, verificando se ```N``` é divisível por todos os números de ```1``` a ```N-1```. Você vai precisar usar alguma ferramenta de *loop* que você aprendeu para isto. No final, devolva uma mensagem no output indicando se o número é primo ou não."
   ]
  },
  {
   "cell_type": "code",
   "execution_count": 55,
   "metadata": {
    "id": "fLQ0wa4qzcG-"
   },
   "outputs": [
    {
     "name": "stdout",
     "output_type": "stream",
     "text": [
      "1ª iteração:\n",
      "2ª iteração:\n",
      "3ª iteração:\n",
      "4ª iteração:\n",
      "5ª iteração:\n",
      "6ª iteração:\n",
      "7ª iteração:\n",
      "8ª iteração:\n",
      "9ª iteração:\n",
      "10ª iteração:\n",
      "11ª iteração:\n",
      "12ª iteração:\n",
      "13ª iteração:\n",
      "14ª iteração:\n",
      "15ª iteração:\n",
      "16ª iteração:\n",
      "17ª iteração:\n",
      "18ª iteração:\n",
      "19ª iteração:\n",
      "20ª iteração:\n",
      "21ª iteração:\n",
      "22ª iteração:\n",
      "23ª iteração:\n",
      "24ª iteração:\n",
      "25ª iteração:\n",
      "26ª iteração:\n",
      "27ª iteração:\n",
      "28ª iteração:\n",
      "29ª iteração:\n",
      "30ª iteração:\n",
      "31ª iteração:\n",
      "32ª iteração:\n",
      "33ª iteração:\n",
      "34ª iteração:\n",
      "35ª iteração:\n",
      "36ª iteração:\n",
      "37ª iteração:\n",
      "38ª iteração:\n",
      "39ª iteração:\n",
      "40ª iteração:\n",
      "41ª iteração:\n",
      "42ª iteração:\n",
      "43ª iteração:\n",
      "44ª iteração:\n",
      "45ª iteração:\n",
      "46 NÃO é um número primo\n"
     ]
    }
   ],
   "source": [
    "N = 46\n",
    "num_divisores = 0\n",
    "# seu código abaixo\n",
    "for i in range(1, N):\n",
    "    print(f'{i}ª iteração:')\n",
    "    if N%i == 0:\n",
    "        num_divisores +=1\n",
    "    else:\n",
    "        continue\n",
    "if num_divisores == 1:\n",
    "    print(f'{N} é um número primo')\n",
    "else:\n",
    "    print(f'{N} NÃO é um número primo')"
   ]
  },
  {
   "cell_type": "markdown",
   "metadata": {
    "id": "3Bbfapit2dNo"
   },
   "source": [
    "---"
   ]
  },
  {
   "cell_type": "markdown",
   "metadata": {
    "id": "txT7vqDezcG-"
   },
   "source": [
    "### 05 - Desafio\n",
    "O algorítmo do exercício anterior não é o mais eficiente. O que você pode fazer para deixá-lo mais eficiente? Ou seja, executar menos comparações, portanto consumir menos tempo.\n",
    "1. Será que precisamos correr o loop até o final sempre?\n",
    "2. Será que precisamos mesmo verificar **todos** os números?\n",
    "3. Será que precisamos ir até N-1?\n",
    "\n",
    "Essas perguntas levam ao tipo de pensamento voltado a deixar um algoritmo mais eficiente. Veja se você consegue melhorar o seu."
   ]
  },
  {
   "cell_type": "code",
   "execution_count": 56,
   "metadata": {
    "id": "k_PGIIhuzcG_"
   },
   "outputs": [
    {
     "name": "stdout",
     "output_type": "stream",
     "text": [
      "1ª iteração:\n",
      "2ª iteração:\n",
      "46 NÃO é um número primo\n"
     ]
    }
   ],
   "source": [
    "N = 46\n",
    "num_divisores = 0\n",
    "\n",
    "# seu código aqui\n",
    "for i in range(1, N):\n",
    "    print(f'{i}ª iteração:')\n",
    "    if N%i == 0:\n",
    "        num_divisores +=1\n",
    "        if num_divisores > 1:\n",
    "            print(f'{N} NÃO é um número primo')\n",
    "            break\n",
    "        else:\n",
    "            continue\n",
    "if num_divisores == 1:\n",
    "    print(f'{N} é um número primo')"
   ]
  },
  {
   "cell_type": "markdown",
   "metadata": {},
   "source": [
    "O algoritmo da questão 5 roda o mesmo número de iterações que o algoritmo da questão 4, caso o número seja primo. Do contrário, o algoritmo 5 necessita de um menor número de iterações para chegar a conclusão que um número não é primo."
   ]
  },
  {
   "cell_type": "markdown",
   "metadata": {
    "id": "1VIj5Ulv2gGl"
   },
   "source": [
    "---"
   ]
  },
  {
   "cell_type": "markdown",
   "metadata": {
    "id": "DpjG0robzcHA"
   },
   "source": [
    "### 06 - Peso ideal 1\n",
    "O IMC (índice de massa corpórea) é um indicador de saúde mais bem aceito que o peso. Ele é calculado como:\n",
    "\n",
    "$$ IMC = \\dfrac{peso}{altura^2}$$\n",
    "\n",
    "Segundo a OMS, valores *normais* são entre 18.5 e 24.9.\n",
    "\n",
    "Sua tarefa é encontrar o ponto médio dessa faixa."
   ]
  },
  {
   "cell_type": "code",
   "execution_count": 50,
   "metadata": {
    "id": "G5Au1wz9zcHA",
    "outputId": "914ec725-1f9a-4f90-afeb-a9414573af9e"
   },
   "outputs": [
    {
     "data": {
      "text/plain": [
       "21.7"
      ]
     },
     "execution_count": 50,
     "metadata": {},
     "output_type": "execute_result"
    }
   ],
   "source": [
    "imc_ideal = (18.5 + 24.9)/2\n",
    "imc_ideal"
   ]
  },
  {
   "cell_type": "markdown",
   "metadata": {
    "id": "hlbbgCcF2irM"
   },
   "source": [
    "---"
   ]
  },
  {
   "cell_type": "markdown",
   "metadata": {
    "id": "AT9Iaev0zcHB"
   },
   "source": [
    "### 07 - Peso ideal 2\n",
    "Recebendo um valor de altura, encontre o peso '*ideal*' dessa pessoa, que fornece o IMC encontrado acima"
   ]
  },
  {
   "cell_type": "code",
   "execution_count": 51,
   "metadata": {
    "id": "00BgHhKUzcHB",
    "outputId": "3c1d3b77-4eac-4737-e502-235bc94a5f40"
   },
   "outputs": [
    {
     "data": {
      "text/plain": [
       "62.712999999999994"
      ]
     },
     "execution_count": 51,
     "metadata": {},
     "output_type": "execute_result"
    }
   ],
   "source": [
    "altura = 1.70\n",
    "\n",
    "# Seu código\n",
    "peso_ideal = imc_ideal*(altura**2)\n",
    "peso_ideal"
   ]
  },
  {
   "cell_type": "markdown",
   "metadata": {
    "id": "7EMzdE0H2lui"
   },
   "source": [
    "---"
   ]
  },
  {
   "cell_type": "markdown",
   "metadata": {
    "id": "A0im-uHZzcHC"
   },
   "source": [
    "### 08 - Peso ideal 3\n",
    "Dada uma lista contendo as alturas de pacientes, crie uma nova lista que contenha o peso '*ideal*' (que fornece o IMC calculado em **Peso ideal 1**) desses pacientes."
   ]
  },
  {
   "cell_type": "code",
   "execution_count": 52,
   "metadata": {
    "id": "kAuGv1NJzcHC",
    "outputId": "fe79ba22-3ffa-4e6a-adff-f9616d356677"
   },
   "outputs": [
    {
     "data": {
      "text/plain": [
       "[82.51, 91.19, 62.71, 59.08]"
      ]
     },
     "execution_count": 52,
     "metadata": {},
     "output_type": "execute_result"
    }
   ],
   "source": [
    "lista_alturas = [1.95, 2.05, 1.70, 1.65]\n",
    "\n",
    "lista_peso_ideal = []\n",
    "\n",
    "for altura in lista_alturas:\n",
    "    peso_ideal = round(imc_ideal*(altura**2), 2)\n",
    "    lista_peso_ideal.append(peso_ideal)\n",
    "lista_peso_ideal"
   ]
  },
  {
   "cell_type": "markdown",
   "metadata": {
    "id": "tzUNxzqF2n9e"
   },
   "source": [
    "---"
   ]
  },
  {
   "cell_type": "markdown",
   "metadata": {
    "id": "vqfLDzNYzcHD"
   },
   "source": [
    "### 09 - Peso ideal 4\n",
    "Dada uma lista de tuplas - cada elemento da lista é uma tupla contendo altura e peso de um paciente - crie uma nova lista com o IMC desses pacientes."
   ]
  },
  {
   "cell_type": "code",
   "execution_count": 53,
   "metadata": {
    "id": "_cHwbGJszcHD",
    "outputId": "0e0f1011-5a4e-4d3c-fa16-36400dffbd46"
   },
   "outputs": [
    {
     "data": {
      "text/plain": [
       "[27.78, 27.55, 19.19]"
      ]
     },
     "execution_count": 53,
     "metadata": {},
     "output_type": "execute_result"
    }
   ],
   "source": [
    "altura_peso = [(1.80, 90), (1.65, 75), (1.91, 70)]\n",
    "\n",
    "imc = []\n",
    "for altura, peso in altura_peso:\n",
    "    imc_paciente = round(peso/altura**2, 2)\n",
    "    imc.append(imc_paciente)\n",
    "imc"
   ]
  },
  {
   "cell_type": "markdown",
   "metadata": {
    "id": "SOu-mVeO2pzI"
   },
   "source": [
    "---"
   ]
  },
  {
   "cell_type": "markdown",
   "metadata": {
    "id": "eFcBa2sVzcHE"
   },
   "source": [
    "### 10 - Peso ideal 5\n",
    "Dada uma lista de **listas** - cada elemento da lista é uma **lista** contendo altura e peso de um paciente, adicione mais um elemento à lista de cada paciente contendo o IMC do paciente. Verifique também se é 'baixo', 'normal' ou 'alto' segundo os padrões da OMS em que normal é entre 18.5 e 24.9.\n",
    "\n",
    "Reflexão: por que no problema anterior temos que criar uma nova lista, e não podemos adicionar os dados de cada indivíduo à tupla?"
   ]
  },
  {
   "cell_type": "markdown",
   "metadata": {},
   "source": [
    "A tupla é uma estrutura imutável e portanto, não podemos adicionar novos elementos à estrutura. "
   ]
  },
  {
   "cell_type": "code",
   "execution_count": 54,
   "metadata": {
    "id": "XOUdYV9NzcHE",
    "outputId": "03ae0276-ad1e-469c-e6fb-544e97df9062"
   },
   "outputs": [
    {
     "data": {
      "text/plain": [
       "[[1.8, 90, 27.78, 'alto'],\n",
       " [1.65, 75, 27.55, 'alto'],\n",
       " [1.91, 70, 19.19, 'normal']]"
      ]
     },
     "execution_count": 54,
     "metadata": {},
     "output_type": "execute_result"
    }
   ],
   "source": [
    "altura_peso = [[1.80, 90], [1.65, 75], [1.91, 70]]\n",
    "id_paciente = 0\n",
    "for altura, peso in altura_peso:\n",
    "    imc = round(peso/(altura**2), 2)\n",
    "    if imc < 18.5:\n",
    "        status_imc = 'baixo'\n",
    "    elif imc <= 24.9:\n",
    "        status_imc = 'normal'\n",
    "    else:\n",
    "        status_imc = 'alto'\n",
    "    altura_peso[id_paciente].append(imc)\n",
    "    altura_peso[id_paciente].append(status_imc)\n",
    "    id_paciente += 1\n",
    "altura_peso"
   ]
  },
  {
   "cell_type": "markdown",
   "metadata": {},
   "source": [
    "---"
   ]
  }
 ],
 "metadata": {
  "colab": {
   "collapsed_sections": [],
   "name": "solucao_mod3_ex1 - numpy.ipynb",
   "provenance": []
  },
  "kernelspec": {
   "display_name": "Python 3",
   "language": "python",
   "name": "python3"
  },
  "language_info": {
   "codemirror_mode": {
    "name": "ipython",
    "version": 3
   },
   "file_extension": ".py",
   "mimetype": "text/x-python",
   "name": "python",
   "nbconvert_exporter": "python",
   "pygments_lexer": "ipython3",
   "version": "3.8.8"
  }
 },
 "nbformat": 4,
 "nbformat_minor": 1
}
